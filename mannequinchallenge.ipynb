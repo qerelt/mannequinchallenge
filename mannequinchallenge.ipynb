{
  "nbformat": 4,
  "nbformat_minor": 0,
  "metadata": {
    "colab": {
      "name": "mannequinchallenge.ipynb",
      "provenance": [],
      "collapsed_sections": []
    },
    "kernelspec": {
      "name": "python3",
      "display_name": "Python 3"
    },
    "accelerator": "GPU"
  },
  "cells": [
    {
      "cell_type": "code",
      "metadata": {
        "id": "TmsYBLwpYRUh",
        "colab_type": "code",
        "colab": {}
      },
      "source": [
        "pip install tensorflow torch torchvision scikit-image h5py"
      ],
      "execution_count": 0,
      "outputs": []
    },
    {
      "cell_type": "code",
      "metadata": {
        "id": "1x2pkQjZYgzP",
        "colab_type": "code",
        "colab": {}
      },
      "source": [
        "!git clone https://github.com/google/mannequinchallenge.git"
      ],
      "execution_count": 0,
      "outputs": []
    },
    {
      "cell_type": "code",
      "metadata": {
        "id": "KwtOEhm0YzjU",
        "colab_type": "code",
        "colab": {}
      },
      "source": [
        "import os\n",
        "os.chdir('mannequinchallenge/')"
      ],
      "execution_count": 0,
      "outputs": []
    },
    {
      "cell_type": "code",
      "metadata": {
        "id": "62AiLbl_Y8i-",
        "colab_type": "code",
        "colab": {}
      },
      "source": [
        "!bash ./fetch_checkpoints.sh"
      ],
      "execution_count": 0,
      "outputs": []
    },
    {
      "cell_type": "code",
      "metadata": {
        "id": "FymABhTTZEuu",
        "colab_type": "code",
        "colab": {}
      },
      "source": [
        "!bash ./fetch_davis_data.sh"
      ],
      "execution_count": 0,
      "outputs": []
    },
    {
      "cell_type": "code",
      "metadata": {
        "id": "V8joY2VUa3Ve",
        "colab_type": "code",
        "colab": {}
      },
      "source": [
        "!python test_davis_videos.py --input=single_view"
      ],
      "execution_count": 0,
      "outputs": []
    },
    {
      "cell_type": "code",
      "metadata": {
        "id": "gFnSCq5rd79h",
        "colab_type": "code",
        "colab": {}
      },
      "source": [
        "!zip -r breakdance-flare.zip test_data/viz_predictions/breakdance-flare"
      ],
      "execution_count": 0,
      "outputs": []
    }
  ]
}